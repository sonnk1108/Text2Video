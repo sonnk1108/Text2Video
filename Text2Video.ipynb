{
 "cells": [
  {
   "cell_type": "code",
   "execution_count": 19,
   "id": "ae0ae028-cabe-4934-8a16-69dc6f27a0e6",
   "metadata": {},
   "outputs": [
    {
     "name": "stdout",
     "output_type": "stream",
     "text": [
      "Audio saved as output.mp3\n",
      "Converted output.mp3 to output.wav\n"
     ]
    },
    {
     "name": "stderr",
     "output_type": "stream",
     "text": [
      "Lip-sync Inference:   0%|          | 0/5 [00:00<?, ?it/s]\n",
      "\u001b[Ae Detection:   0%|          | 0/1 [00:00<?, ?it/s]\n",
      "Face Detection: 100%|██████████| 1/1 [00:02<00:00,  2.53s/it]\n",
      "Lip-sync Inference: 100%|██████████| 5/5 [00:13<00:00,  2.64s/it]\n"
     ]
    },
    {
     "data": {
      "text/plain": [
       "'result.mp4'"
      ]
     },
     "execution_count": 19,
     "metadata": {},
     "output_type": "execute_result"
    }
   ],
   "source": [
    "import edge_tts\n",
    "import asyncio\n",
    "import nest_asyncio\n",
    "from pydub import AudioSegment\n",
    "import librosa\n",
    "import soundfile as sf\n",
    "from lipsync import LipSync\n",
    "import os\n",
    "from PIL import Image\n",
    "\n",
    "# Load the image\n",
    "#image_path = \"test.jpg\"  # Change this to your image file\n",
    "#image = Image.open(image_path)\n",
    "\n",
    "# Resize to Full HD (1920x1080)\n",
    "#full_hd_size = (1920, 1080)\n",
    "#resized_image = image.resize(full_hd_size, Image.LANCZOS)\n",
    "\n",
    "# Save the resized image (overwrite the original file)\n",
    "#resized_image.save(image_path)\n",
    "\n",
    "# Fix the event loop issue in Jupyter Notebook\n",
    "nest_asyncio.apply()\n",
    "os.environ[\"PATH\"] += os.pathsep + r\"C:\\ffmpeg\\bin\"\n",
    "\n",
    "text = \"Hôm nay, ngày 7/2/2025, Hà Nội chịu ảnh hưởng của không khí lạnh tăng cường, trời nhiều mây, có mưa nhỏ và sương mù vào buổi sáng. Nhiệt độ thấp nhất dao động từ 10-12 độ C, cao nhất từ 13-16 độ C. Gió đông bắc mạnh dần lên cấp 3, khiến trời rét đậm, có nơi rét hại.\"\n",
    "Male='vi-VN-NamMinhNeural'\n",
    "Female='vi-VN-HoaiMyNeural'\n",
    "async def generate_audio(text, output_file=\"output.mp3\", voice=Female):\n",
    "    \"\"\"\n",
    "    Generates an audio file from the given text in Vietnamese using Microsoft Edge-TTS.\n",
    "    \"\"\"\n",
    "    tts = edge_tts.Communicate(text, voice)\n",
    "    await tts.save(output_file)\n",
    "    print(f\"Audio saved as {output_file}\")\n",
    "\n",
    "    # Convert MP3 to WAV\n",
    "    convert_mp3_to_wav(output_file, \"output.wav\")\n",
    "\n",
    "def convert_mp3_to_wav(mp3_file, wav_file):\n",
    "    \"\"\"\n",
    "    Converts an MP3 file to WAV using librosa.\n",
    "    \"\"\"\n",
    "    y, sr = librosa.load(mp3_file, sr=None)  # Load MP3\n",
    "    sf.write(wav_file, y, sr)  # Save as WAV\n",
    "    print(f\"Converted {mp3_file} to {wav_file}\")\n",
    "\n",
    "# Example usage\n",
    "asyncio.run(generate_audio(text))\n",
    "# Initialize the LipSync object\n",
    "lip = LipSync(\n",
    "    model='wav2lip',  # Model type\n",
    "    checkpoint_path='Weights/wav2lip_gan.pth',  # Path to the model weights\n",
    "    nosmooth=False,  # Disable smoothing\n",
    "    device='cuda',  # Device to run on ('cpu' or 'cuda')\n",
    "    img_size=96,  # Image size\n",
    "    save_cache=False,  # Save frames to cache\n",
    ")\n",
    "\n",
    "# Perform lip synchronization\n",
    "lip.sync(\n",
    "    'test.jpg',  # Path to the source video or image\n",
    "    'output.wav',   # Path to the audio file\n",
    "    'result.mp4',         # Path to save the output video\n",
    ")\n"
   ]
  },
  {
   "cell_type": "code",
   "execution_count": null,
   "id": "96de765a-0581-4b4a-a7f7-f37fa0af8ed1",
   "metadata": {},
   "outputs": [],
   "source": []
  }
 ],
 "metadata": {
  "kernelspec": {
   "display_name": "Python 3 (ipykernel)",
   "language": "python",
   "name": "python3"
  },
  "language_info": {
   "codemirror_mode": {
    "name": "ipython",
    "version": 3
   },
   "file_extension": ".py",
   "mimetype": "text/x-python",
   "name": "python",
   "nbconvert_exporter": "python",
   "pygments_lexer": "ipython3",
   "version": "3.11.11"
  }
 },
 "nbformat": 4,
 "nbformat_minor": 5
}
