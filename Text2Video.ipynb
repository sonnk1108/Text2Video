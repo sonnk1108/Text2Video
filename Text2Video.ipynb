{
 "cells": [
  {
   "cell_type": "code",
   "execution_count": null,
   "id": "ae0ae028-cabe-4934-8a16-69dc6f27a0e6",
   "metadata": {},
   "outputs": [],
   "source": [
    "import edge_tts\n",
    "import asyncio\n",
    "import nest_asyncio\n",
    "from pydub import AudioSegment\n",
    "import librosa\n",
    "import soundfile as sf\n",
    "from lipsync import LipSync\n",
    "from lipsync import LipSync\n",
    "import os\n",
    "\n",
    "# Fix the event loop issue in Jupyter Notebook\n",
    "nest_asyncio.apply()\n",
    "\n",
    "text = \"Xin chào, đây là một đoạn văn bản được chuyển đổi thành giọng nói tiếng Việt.\"\n",
    "\n",
    "async def generate_audio(text, output_file=\"output.mp3\", voice=\"vi-VN-NamMinhNeural\"):\n",
    "    \"\"\"\n",
    "    Generates an audio file from the given text in Vietnamese using Microsoft Edge-TTS.\n",
    "    \"\"\"\n",
    "    tts = edge_tts.Communicate(text, voice)\n",
    "    await tts.save(output_file)\n",
    "    print(f\"Audio saved as {output_file}\")\n",
    "\n",
    "    # Convert MP3 to WAV\n",
    "    convert_mp3_to_wav(output_file, \"output.wav\")\n",
    "\n",
    "def convert_mp3_to_wav(mp3_file, wav_file):\n",
    "    \"\"\"\n",
    "    Converts an MP3 file to WAV using librosa.\n",
    "    \"\"\"\n",
    "    y, sr = librosa.load(mp3_file, sr=None)  # Load MP3\n",
    "    sf.write(wav_file, y, sr)  # Save as WAV\n",
    "    print(f\"Converted {mp3_file} to {wav_file}\")\n",
    "\n",
    "# Example usage\n",
    "asyncio.run(generate_audio(text))\n",
    "# Initialize the LipSync object\n",
    "lip = LipSync(\n",
    "    model='wav2lip',  # Model type\n",
    "    checkpoint_path='wav2lip_gan.pth',  # Path to the model weights\n",
    "    nosmooth=True,  # Disable smoothing\n",
    "    device='cuda',  # Device to run on ('cpu' or 'cuda')\n",
    "  \n",
    "    img_size=96,  # Image size\n",
    "    save_cache=True,  # Save frames to cache\n",
    ")\n",
    "\n",
    "# Perform lip synchronization\n",
    "lip.sync(\n",
    "    'test.jpg',  # Path to the source video or image\n",
    "    'output.wav',   # Path to the audio file\n",
    "    'result.mp4',         # Path to save the output video\n",
    ")\n",
    "\n"
   ]
  }
 ],
 "metadata": {
  "kernelspec": {
   "display_name": "Python 3 (ipykernel)",
   "language": "python",
   "name": "python3"
  },
  "language_info": {
   "codemirror_mode": {
    "name": "ipython",
    "version": 3
   },
   "file_extension": ".py",
   "mimetype": "text/x-python",
   "name": "python",
   "nbconvert_exporter": "python",
   "pygments_lexer": "ipython3",
   "version": "3.11.11"
  }
 },
 "nbformat": 4,
 "nbformat_minor": 5
}
